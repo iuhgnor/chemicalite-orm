{
 "cells": [
  {
   "cell_type": "code",
   "execution_count": 29,
   "id": "ea99ae96",
   "metadata": {},
   "outputs": [],
   "source": [
    "import sys\n",
    "\n",
    "sys.path.append(\"../\")\n",
    "\n",
    "from sqlmodel import create_engine, Session, select\n",
    "from chemicalite_orm.models import (\n",
    "    Compound,\n",
    "    mol_morgan_bfp,\n",
    "    mol_from_smiles,\n",
    "    mol_from_smarts,\n",
    ")\n",
    "from chemicalite_orm.molecules import SMILES_SAMPLE as mols\n",
    "from sqlalchemy import event"
   ]
  },
  {
   "cell_type": "code",
   "execution_count": 30,
   "id": "35dab75d",
   "metadata": {},
   "outputs": [],
   "source": [
    "DATABASE_URL = \"sqlite:///chemicalite.db?enable_load_extension=1\"\n",
    "\n",
    "engine = create_engine(DATABASE_URL, echo=False)\n",
    "\n",
    "\n",
    "@event.listens_for(engine, \"connect\")\n",
    "def load_chemicalite(dbapi_conn, connection_record):\n",
    "    dbapi_conn.enable_load_extension(True)\n",
    "    dbapi_conn.load_extension(\"chemicalite\")\n",
    "\n",
    "\n",
    "Compound.__table__.create(engine)"
   ]
  },
  {
   "cell_type": "code",
   "execution_count": 31,
   "id": "0ca448dc",
   "metadata": {},
   "outputs": [],
   "source": [
    "def insert_test_data():\n",
    "    with Session(engine) as session:\n",
    "        for i, smiles in enumerate(mols):\n",
    "            compound = Compound(\n",
    "                name=f\"mol_{i}\",\n",
    "                smiles=smiles,\n",
    "                molecule=smiles,\n",
    "                mfp2=mol_morgan_bfp(mol_from_smiles(smiles), 2, 1024),\n",
    "            )\n",
    "            session.add(compound)\n",
    "        session.commit()\n",
    "\n",
    "\n",
    "insert_test_data()"
   ]
  },
  {
   "cell_type": "code",
   "execution_count": 32,
   "id": "da319abf",
   "metadata": {},
   "outputs": [
    {
     "ename": "AttributeError",
     "evalue": "Neither 'InstrumentedAttribute' object nor 'Comparator' object associated with Compound.molecule has an attribute 'hassubstruct'",
     "output_type": "error",
     "traceback": [
      "\u001b[0;31m---------------------------------------------------------------------------\u001b[0m",
      "\u001b[0;31mAttributeError\u001b[0m                            Traceback (most recent call last)",
      "File \u001b[0;32m~/bin/miniconda3/envs/orm/lib/python3.9/site-packages/sqlalchemy/sql/elements.py:1506\u001b[0m, in \u001b[0;36mColumnElement.__getattr__\u001b[0;34m(self, key)\u001b[0m\n\u001b[1;32m   1505\u001b[0m \u001b[38;5;28;01mtry\u001b[39;00m:\n\u001b[0;32m-> 1506\u001b[0m     \u001b[38;5;28;01mreturn\u001b[39;00m \u001b[38;5;28;43mgetattr\u001b[39;49m\u001b[43m(\u001b[49m\u001b[38;5;28;43mself\u001b[39;49m\u001b[38;5;241;43m.\u001b[39;49m\u001b[43mcomparator\u001b[49m\u001b[43m,\u001b[49m\u001b[43m \u001b[49m\u001b[43mkey\u001b[49m\u001b[43m)\u001b[49m\n\u001b[1;32m   1507\u001b[0m \u001b[38;5;28;01mexcept\u001b[39;00m \u001b[38;5;167;01mAttributeError\u001b[39;00m \u001b[38;5;28;01mas\u001b[39;00m err:\n",
      "\u001b[0;31mAttributeError\u001b[0m: 'Comparator' object has no attribute 'hassubstruct'",
      "\nThe above exception was the direct cause of the following exception:\n",
      "\u001b[0;31mAttributeError\u001b[0m                            Traceback (most recent call last)",
      "File \u001b[0;32m~/bin/miniconda3/envs/orm/lib/python3.9/site-packages/sqlalchemy/orm/attributes.py:472\u001b[0m, in \u001b[0;36mQueryableAttribute.__getattr__\u001b[0;34m(self, key)\u001b[0m\n\u001b[1;32m    471\u001b[0m \u001b[38;5;28;01mtry\u001b[39;00m:\n\u001b[0;32m--> 472\u001b[0m     \u001b[38;5;28;01mreturn\u001b[39;00m \u001b[38;5;28;43mgetattr\u001b[39;49m\u001b[43m(\u001b[49m\u001b[38;5;28;43mself\u001b[39;49m\u001b[38;5;241;43m.\u001b[39;49m\u001b[43mcomparator\u001b[49m\u001b[43m,\u001b[49m\u001b[43m \u001b[49m\u001b[43mkey\u001b[49m\u001b[43m)\u001b[49m\n\u001b[1;32m    473\u001b[0m \u001b[38;5;28;01mexcept\u001b[39;00m \u001b[38;5;167;01mAttributeError\u001b[39;00m \u001b[38;5;28;01mas\u001b[39;00m err:\n",
      "File \u001b[0;32m~/bin/miniconda3/envs/orm/lib/python3.9/site-packages/sqlalchemy/util/langhelpers.py:1332\u001b[0m, in \u001b[0;36mMemoizedSlots.__getattr__\u001b[0;34m(self, key)\u001b[0m\n\u001b[1;32m   1331\u001b[0m \u001b[38;5;28;01melse\u001b[39;00m:\n\u001b[0;32m-> 1332\u001b[0m     \u001b[38;5;28;01mreturn\u001b[39;00m \u001b[38;5;28;43mself\u001b[39;49m\u001b[38;5;241;43m.\u001b[39;49m\u001b[43m_fallback_getattr\u001b[49m\u001b[43m(\u001b[49m\u001b[43mkey\u001b[49m\u001b[43m)\u001b[49m\n",
      "File \u001b[0;32m~/bin/miniconda3/envs/orm/lib/python3.9/site-packages/sqlalchemy/orm/properties.py:474\u001b[0m, in \u001b[0;36mColumnProperty.Comparator._fallback_getattr\u001b[0;34m(self, key)\u001b[0m\n\u001b[1;32m    470\u001b[0m \u001b[38;5;250m\u001b[39m\u001b[38;5;124;03m\"\"\"proxy attribute access down to the mapped column.\u001b[39;00m\n\u001b[1;32m    471\u001b[0m \n\u001b[1;32m    472\u001b[0m \u001b[38;5;124;03mthis allows user-defined comparison methods to be accessed.\u001b[39;00m\n\u001b[1;32m    473\u001b[0m \u001b[38;5;124;03m\"\"\"\u001b[39;00m\n\u001b[0;32m--> 474\u001b[0m \u001b[38;5;28;01mreturn\u001b[39;00m \u001b[38;5;28;43mgetattr\u001b[39;49m\u001b[43m(\u001b[49m\u001b[38;5;28;43mself\u001b[39;49m\u001b[38;5;241;43m.\u001b[39;49m\u001b[43m__clause_element__\u001b[49m\u001b[43m(\u001b[49m\u001b[43m)\u001b[49m\u001b[43m,\u001b[49m\u001b[43m \u001b[49m\u001b[43mkey\u001b[49m\u001b[43m)\u001b[49m\n",
      "File \u001b[0;32m~/bin/miniconda3/envs/orm/lib/python3.9/site-packages/sqlalchemy/sql/elements.py:1508\u001b[0m, in \u001b[0;36mColumnElement.__getattr__\u001b[0;34m(self, key)\u001b[0m\n\u001b[1;32m   1507\u001b[0m \u001b[38;5;28;01mexcept\u001b[39;00m \u001b[38;5;167;01mAttributeError\u001b[39;00m \u001b[38;5;28;01mas\u001b[39;00m err:\n\u001b[0;32m-> 1508\u001b[0m     \u001b[38;5;28;01mraise\u001b[39;00m \u001b[38;5;167;01mAttributeError\u001b[39;00m(\n\u001b[1;32m   1509\u001b[0m         \u001b[38;5;124m\"\u001b[39m\u001b[38;5;124mNeither \u001b[39m\u001b[38;5;132;01m%r\u001b[39;00m\u001b[38;5;124m object nor \u001b[39m\u001b[38;5;132;01m%r\u001b[39;00m\u001b[38;5;124m object has an attribute \u001b[39m\u001b[38;5;132;01m%r\u001b[39;00m\u001b[38;5;124m\"\u001b[39m\n\u001b[1;32m   1510\u001b[0m         \u001b[38;5;241m%\u001b[39m (\n\u001b[1;32m   1511\u001b[0m             \u001b[38;5;28mtype\u001b[39m(\u001b[38;5;28mself\u001b[39m)\u001b[38;5;241m.\u001b[39m\u001b[38;5;18m__name__\u001b[39m,\n\u001b[1;32m   1512\u001b[0m             \u001b[38;5;28mtype\u001b[39m(\u001b[38;5;28mself\u001b[39m\u001b[38;5;241m.\u001b[39mcomparator)\u001b[38;5;241m.\u001b[39m\u001b[38;5;18m__name__\u001b[39m,\n\u001b[1;32m   1513\u001b[0m             key,\n\u001b[1;32m   1514\u001b[0m         )\n\u001b[1;32m   1515\u001b[0m     ) \u001b[38;5;28;01mfrom\u001b[39;00m\u001b[38;5;250m \u001b[39m\u001b[38;5;21;01merr\u001b[39;00m\n",
      "\u001b[0;31mAttributeError\u001b[0m: Neither 'AnnotatedColumn' object nor 'Comparator' object has an attribute 'hassubstruct'",
      "\nThe above exception was the direct cause of the following exception:\n",
      "\u001b[0;31mAttributeError\u001b[0m                            Traceback (most recent call last)",
      "Cell \u001b[0;32mIn[32], line 11\u001b[0m\n\u001b[1;32m      7\u001b[0m         \u001b[38;5;28;01mfor\u001b[39;00m r \u001b[38;5;129;01min\u001b[39;00m results:\n\u001b[1;32m      8\u001b[0m             \u001b[38;5;28mprint\u001b[39m(\u001b[38;5;124m\"\u001b[39m\u001b[38;5;124m  -\u001b[39m\u001b[38;5;124m\"\u001b[39m, r\u001b[38;5;241m.\u001b[39mname)\n\u001b[0;32m---> 11\u001b[0m \u001b[43mtest_substructure\u001b[49m\u001b[43m(\u001b[49m\u001b[43m)\u001b[49m\n",
      "Cell \u001b[0;32mIn[32], line 5\u001b[0m, in \u001b[0;36mtest_substructure\u001b[0;34m(smarts)\u001b[0m\n\u001b[1;32m      2\u001b[0m query_mol \u001b[38;5;241m=\u001b[39m mol_from_smarts(smarts)\n\u001b[1;32m      3\u001b[0m \u001b[38;5;28;01mwith\u001b[39;00m Session(engine) \u001b[38;5;28;01mas\u001b[39;00m session:\n\u001b[1;32m      4\u001b[0m     results \u001b[38;5;241m=\u001b[39m session\u001b[38;5;241m.\u001b[39mexec(\n\u001b[0;32m----> 5\u001b[0m         select(Compound)\u001b[38;5;241m.\u001b[39mwhere(\u001b[43mCompound\u001b[49m\u001b[38;5;241;43m.\u001b[39;49m\u001b[43mmolecule\u001b[49m\u001b[38;5;241;43m.\u001b[39;49m\u001b[43mhassubstruct\u001b[49m(query_mol))\n\u001b[1;32m      6\u001b[0m     )\u001b[38;5;241m.\u001b[39mall()\n\u001b[1;32m      7\u001b[0m     \u001b[38;5;28;01mfor\u001b[39;00m r \u001b[38;5;129;01min\u001b[39;00m results:\n\u001b[1;32m      8\u001b[0m         \u001b[38;5;28mprint\u001b[39m(\u001b[38;5;124m\"\u001b[39m\u001b[38;5;124m  -\u001b[39m\u001b[38;5;124m\"\u001b[39m, r\u001b[38;5;241m.\u001b[39mname)\n",
      "File \u001b[0;32m~/bin/miniconda3/envs/orm/lib/python3.9/site-packages/sqlalchemy/orm/attributes.py:474\u001b[0m, in \u001b[0;36mQueryableAttribute.__getattr__\u001b[0;34m(self, key)\u001b[0m\n\u001b[1;32m    472\u001b[0m     \u001b[38;5;28;01mreturn\u001b[39;00m \u001b[38;5;28mgetattr\u001b[39m(\u001b[38;5;28mself\u001b[39m\u001b[38;5;241m.\u001b[39mcomparator, key)\n\u001b[1;32m    473\u001b[0m \u001b[38;5;28;01mexcept\u001b[39;00m \u001b[38;5;167;01mAttributeError\u001b[39;00m \u001b[38;5;28;01mas\u001b[39;00m err:\n\u001b[0;32m--> 474\u001b[0m     \u001b[38;5;28;01mraise\u001b[39;00m \u001b[38;5;167;01mAttributeError\u001b[39;00m(\n\u001b[1;32m    475\u001b[0m         \u001b[38;5;124m\"\u001b[39m\u001b[38;5;124mNeither \u001b[39m\u001b[38;5;132;01m%r\u001b[39;00m\u001b[38;5;124m object nor \u001b[39m\u001b[38;5;132;01m%r\u001b[39;00m\u001b[38;5;124m object associated with \u001b[39m\u001b[38;5;132;01m%s\u001b[39;00m\u001b[38;5;124m \u001b[39m\u001b[38;5;124m\"\u001b[39m\n\u001b[1;32m    476\u001b[0m         \u001b[38;5;124m\"\u001b[39m\u001b[38;5;124mhas an attribute \u001b[39m\u001b[38;5;132;01m%r\u001b[39;00m\u001b[38;5;124m\"\u001b[39m\n\u001b[1;32m    477\u001b[0m         \u001b[38;5;241m%\u001b[39m (\n\u001b[1;32m    478\u001b[0m             \u001b[38;5;28mtype\u001b[39m(\u001b[38;5;28mself\u001b[39m)\u001b[38;5;241m.\u001b[39m\u001b[38;5;18m__name__\u001b[39m,\n\u001b[1;32m    479\u001b[0m             \u001b[38;5;28mtype\u001b[39m(\u001b[38;5;28mself\u001b[39m\u001b[38;5;241m.\u001b[39mcomparator)\u001b[38;5;241m.\u001b[39m\u001b[38;5;18m__name__\u001b[39m,\n\u001b[1;32m    480\u001b[0m             \u001b[38;5;28mself\u001b[39m,\n\u001b[1;32m    481\u001b[0m             key,\n\u001b[1;32m    482\u001b[0m         )\n\u001b[1;32m    483\u001b[0m     ) \u001b[38;5;28;01mfrom\u001b[39;00m\u001b[38;5;250m \u001b[39m\u001b[38;5;21;01merr\u001b[39;00m\n",
      "\u001b[0;31mAttributeError\u001b[0m: Neither 'InstrumentedAttribute' object nor 'Comparator' object associated with Compound.molecule has an attribute 'hassubstruct'"
     ]
    }
   ],
   "source": [
    "def test_substructure(smarts=\"c1ccccc1\"):\n",
    "    query_mol = mol_from_smarts(smarts)\n",
    "    with Session(engine) as session:\n",
    "        results = session.exec(\n",
    "            select(Compound).where(Compound.molecule.hassubstruct(query_mol))\n",
    "        ).all()\n",
    "        for r in results:\n",
    "            print(\"  -\", r.name)\n",
    "\n",
    "\n",
    "test_substructure()"
   ]
  }
 ],
 "metadata": {
  "kernelspec": {
   "display_name": "orm",
   "language": "python",
   "name": "python3"
  },
  "language_info": {
   "codemirror_mode": {
    "name": "ipython",
    "version": 3
   },
   "file_extension": ".py",
   "mimetype": "text/x-python",
   "name": "python",
   "nbconvert_exporter": "python",
   "pygments_lexer": "ipython3",
   "version": "3.9.18"
  }
 },
 "nbformat": 4,
 "nbformat_minor": 5
}
