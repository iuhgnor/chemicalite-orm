{
 "cells": [
  {
   "cell_type": "code",
   "execution_count": 1,
   "id": "1d4d965a",
   "metadata": {},
   "outputs": [],
   "source": [
    "import sys\n",
    "\n",
    "sys.path.append(\"../\")\n",
    "\n",
    "\n",
    "from rdkit import Chem\n",
    "from rdkit.Chem import Draw\n",
    "from chemicalite_orm.molecules import SMILES_SAMPLE as mols"
   ]
  },
  {
   "cell_type": "code",
   "execution_count": 2,
   "id": "55a997f6",
   "metadata": {},
   "outputs": [
    {
     "data": {
      "text/plain": [
       "<sqlite3.Cursor at 0x7fcb3af52ea0>"
      ]
     },
     "execution_count": 2,
     "metadata": {},
     "output_type": "execute_result"
    }
   ],
   "source": [
    "import sqlite3\n",
    "\n",
    "connection = sqlite3.connect(\"chem.db\")\n",
    "connection.enable_load_extension(True)\n",
    "connection.load_extension(\"chemicalite\")\n",
    "\n",
    "connection.execute(\n",
    "    \"CREATE TABLE chembl(id INTEGER PRIMARY KEY, chembl_id TEXT, molecule MOL)\"\n",
    ")"
   ]
  },
  {
   "cell_type": "code",
   "execution_count": 3,
   "id": "bc64ca87",
   "metadata": {},
   "outputs": [],
   "source": [
    "def insert_mols():\n",
    "    for i, smiles, *_ in enumerate(mols):\n",
    "        yield f\"mol_{i}\", smiles"
   ]
  },
  {
   "cell_type": "code",
   "execution_count": 4,
   "id": "48e4e9f8",
   "metadata": {},
   "outputs": [],
   "source": [
    "with connection:\n",
    "    connection.executemany(\n",
    "        \"INSERT INTO chembl(chembl_id, molecule) VALUES(?1, mol_from_smiles(?2))\",\n",
    "        insert_mols(),\n",
    "    )"
   ]
  }
 ],
 "metadata": {
  "kernelspec": {
   "display_name": "py39",
   "language": "python",
   "name": "python3"
  },
  "language_info": {
   "codemirror_mode": {
    "name": "ipython",
    "version": 3
   },
   "file_extension": ".py",
   "mimetype": "text/x-python",
   "name": "python",
   "nbconvert_exporter": "python",
   "pygments_lexer": "ipython3",
   "version": "3.9.18"
  }
 },
 "nbformat": 4,
 "nbformat_minor": 5
}
